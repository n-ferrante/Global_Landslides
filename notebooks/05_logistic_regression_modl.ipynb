{
 "cells": [
  {
   "cell_type": "code",
   "execution_count": 53,
   "metadata": {},
   "outputs": [],
   "source": [
    "import numpy as np\n",
    "import pandas as pd\n",
    "from sklearn.model_selection import train_test_split\n",
    "from sklearn.linear_model import LogisticRegression\n",
    "from sklearn.metrics import confusion_matrix, classification_report\n",
    "import statsmodels.api as sm"
   ]
  },
  {
   "cell_type": "code",
   "execution_count": 54,
   "metadata": {},
   "outputs": [],
   "source": [
    "df = pd.read_csv(\"../data/landslideCleaned.csv\")\n",
    "\n",
    "# Convert the 'caused_fatalities' variable to 0's and 1's\n",
    "df.insert(df.columns.get_loc('caused_fatalities') + 1, 'caused_fatalities_numeric', np.where(df['fatality_count'] > 0, '1', '0'))\n",
    "\n",
    "# Select the desired features for the logistic regression model\n",
    "df = df[['landslide_size', 'injury_count', 'longitude', 'latitude', 'caused_fatalities_numeric']]\n",
    "\n",
    "# Create dummy variables for the 'landslide_size' variable\n",
    "df.insert(df.columns.get_loc('landslide_size') + 1, 'small_size', np.where(df['landslide_size'] == 'small', 1, 0))\n",
    "df.insert(df.columns.get_loc('small_size') + 1, 'medium_size', np.where(df['landslide_size'] == 'medium', 1, 0))\n",
    "df.insert(df.columns.get_loc('medium_size') + 1, 'large_size', np.where(df['landslide_size'] == 'large', 1, 0))\n",
    "df.insert(df.columns.get_loc('large_size') + 1, 'very_large_size', np.where(df['landslide_size'] == 'very_large', 1, 0))\n",
    "\n",
    "# Convert all numeric variables to type float\n",
    "df[['small_size', 'medium_size', 'large_size', 'very_large_size', 'caused_fatalities_numeric']] = df[['small_size', 'medium_size', 'large_size', 'very_large_size', 'caused_fatalities_numeric']].apply(lambda x: x.astype('float64'))\n",
    "\n",
    "# Drop the original 'landslide_size' variable\n",
    "df.drop('landslide_size', axis = 1, inplace = True)"
   ]
  },
  {
   "cell_type": "code",
   "execution_count": 56,
   "metadata": {},
   "outputs": [],
   "source": [
    "df = pd.read_csv(\"../data/landslideCleaned.csv\")\n",
    "\n",
    "# Convert the 'caused_fatalities' variable to 0's and 1's\n",
    "df.insert(df.columns.get_loc('caused_fatalities') + 1, 'caused_fatalities_numeric', np.where(df['fatality_count'] > 0, '1', '0'))\n",
    "\n",
    "# Select the desired features for the logistic regression model\n",
    "df = df[['landslide_size', 'injury_count', 'caused_fatalities_numeric']]\n",
    "\n",
    "# Create dummy variables for the 'landslide_size' variable\n",
    "df.insert(df.columns.get_loc('landslide_size') + 1, 'small_size', np.where(df['landslide_size'] == 'small', 1, 0))\n",
    "df.insert(df.columns.get_loc('small_size') + 1, 'medium_size', np.where(df['landslide_size'] == 'medium', 1, 0))\n",
    "df.insert(df.columns.get_loc('medium_size') + 1, 'large_size', np.where(df['landslide_size'] == 'large', 1, 0))\n",
    "df.insert(df.columns.get_loc('large_size') + 1, 'very_large_size', np.where(df['landslide_size'] == 'very_large', 1, 0))\n",
    "\n",
    "# Convert all numeric variables to type float\n",
    "df[['small_size', 'medium_size', 'large_size', 'very_large_size', 'caused_fatalities_numeric']] = df[['small_size', 'medium_size', 'large_size', 'very_large_size', 'caused_fatalities_numeric']].apply(lambda x: x.astype('float64'))\n",
    "\n",
    "# Drop the original 'landslide_size' variable\n",
    "df.drop('landslide_size', axis = 1, inplace = True)"
   ]
  },
  {
   "cell_type": "code",
   "execution_count": 49,
   "metadata": {},
   "outputs": [
    {
     "data": {
      "text/html": [
       "<div>\n",
       "<style scoped>\n",
       "    .dataframe tbody tr th:only-of-type {\n",
       "        vertical-align: middle;\n",
       "    }\n",
       "\n",
       "    .dataframe tbody tr th {\n",
       "        vertical-align: top;\n",
       "    }\n",
       "\n",
       "    .dataframe thead th {\n",
       "        text-align: right;\n",
       "    }\n",
       "</style>\n",
       "<table border=\"1\" class=\"dataframe\">\n",
       "  <thead>\n",
       "    <tr style=\"text-align: right;\">\n",
       "      <th></th>\n",
       "      <th>small_size</th>\n",
       "      <th>medium_size</th>\n",
       "      <th>large_size</th>\n",
       "      <th>very_large_size</th>\n",
       "      <th>injury_count</th>\n",
       "      <th>longitude</th>\n",
       "      <th>latitude</th>\n",
       "      <th>caused_fatalities_numeric</th>\n",
       "    </tr>\n",
       "  </thead>\n",
       "  <tbody>\n",
       "    <tr>\n",
       "      <th>0</th>\n",
       "      <td>0.0</td>\n",
       "      <td>0.0</td>\n",
       "      <td>0.0</td>\n",
       "      <td>0.0</td>\n",
       "      <td>0.0</td>\n",
       "      <td>-122.817800</td>\n",
       "      <td>45.864700</td>\n",
       "      <td>0.0</td>\n",
       "    </tr>\n",
       "    <tr>\n",
       "      <th>1</th>\n",
       "      <td>1.0</td>\n",
       "      <td>0.0</td>\n",
       "      <td>0.0</td>\n",
       "      <td>0.0</td>\n",
       "      <td>0.0</td>\n",
       "      <td>105.529997</td>\n",
       "      <td>23.143830</td>\n",
       "      <td>0.0</td>\n",
       "    </tr>\n",
       "    <tr>\n",
       "      <th>2</th>\n",
       "      <td>0.0</td>\n",
       "      <td>1.0</td>\n",
       "      <td>0.0</td>\n",
       "      <td>0.0</td>\n",
       "      <td>1.0</td>\n",
       "      <td>124.041900</td>\n",
       "      <td>12.565500</td>\n",
       "      <td>0.0</td>\n",
       "    </tr>\n",
       "    <tr>\n",
       "      <th>3</th>\n",
       "      <td>1.0</td>\n",
       "      <td>0.0</td>\n",
       "      <td>0.0</td>\n",
       "      <td>0.0</td>\n",
       "      <td>0.0</td>\n",
       "      <td>-83.712126</td>\n",
       "      <td>36.770029</td>\n",
       "      <td>0.0</td>\n",
       "    </tr>\n",
       "    <tr>\n",
       "      <th>4</th>\n",
       "      <td>1.0</td>\n",
       "      <td>0.0</td>\n",
       "      <td>0.0</td>\n",
       "      <td>0.0</td>\n",
       "      <td>0.0</td>\n",
       "      <td>104.453085</td>\n",
       "      <td>22.690403</td>\n",
       "      <td>0.0</td>\n",
       "    </tr>\n",
       "  </tbody>\n",
       "</table>\n",
       "</div>"
      ],
      "text/plain": [
       "   small_size  medium_size  large_size  very_large_size  injury_count  \\\n",
       "0         0.0          0.0         0.0              0.0           0.0   \n",
       "1         1.0          0.0         0.0              0.0           0.0   \n",
       "2         0.0          1.0         0.0              0.0           1.0   \n",
       "3         1.0          0.0         0.0              0.0           0.0   \n",
       "4         1.0          0.0         0.0              0.0           0.0   \n",
       "\n",
       "    longitude   latitude  caused_fatalities_numeric  \n",
       "0 -122.817800  45.864700                        0.0  \n",
       "1  105.529997  23.143830                        0.0  \n",
       "2  124.041900  12.565500                        0.0  \n",
       "3  -83.712126  36.770029                        0.0  \n",
       "4  104.453085  22.690403                        0.0  "
      ]
     },
     "execution_count": 49,
     "metadata": {},
     "output_type": "execute_result"
    }
   ],
   "source": [
    "df.head()"
   ]
  },
  {
   "cell_type": "code",
   "execution_count": 57,
   "metadata": {},
   "outputs": [],
   "source": [
    "# Define the predictor variables and target variable\n",
    "X = df.drop('caused_fatalities_numeric', axis = 1)\n",
    "y = df['caused_fatalities_numeric']\n",
    "\n",
    "# Create the train/test split\n",
    "X_train, X_test, y_train, y_test = train_test_split(X, y, test_size=0.2, random_state=42)\n",
    "\n",
    "# Fit the logistic regression model\n",
    "model = LogisticRegression()\n",
    "model.fit(X_train, y_train)\n",
    "\n",
    "# Make predictions\n",
    "y_pred = model.predict(X_test)"
   ]
  },
  {
   "cell_type": "code",
   "execution_count": 58,
   "metadata": {},
   "outputs": [
    {
     "name": "stdout",
     "output_type": "stream",
     "text": [
      "Confusion Matrix:\n",
      " [[852   6]\n",
      " [171  42]]\n",
      "\n",
      "Classification Report:\n",
      "               precision    recall  f1-score   support\n",
      "\n",
      "         0.0       0.83      0.99      0.91       858\n",
      "         1.0       0.88      0.20      0.32       213\n",
      "\n",
      "    accuracy                           0.83      1071\n",
      "   macro avg       0.85      0.60      0.61      1071\n",
      "weighted avg       0.84      0.83      0.79      1071\n",
      "\n"
     ]
    }
   ],
   "source": [
    "# Confusion matrix\n",
    "conf_matrix = confusion_matrix(y_test, y_pred)\n",
    "print(\"Confusion Matrix:\\n\", conf_matrix)\n",
    "\n",
    "# Classification report (precision, recall, f1-score)\n",
    "class_report = classification_report(y_test, y_pred)\n",
    "print(\"\\nClassification Report:\\n\", class_report)\n"
   ]
  },
  {
   "cell_type": "markdown",
   "metadata": {},
   "source": [
    "From the classification report, we can see that the model is very good at predicting class 0, when landslide events do not result in fatalities. The precision tells us that 83% of the instances that the model predicted as 0 were actually class 0, and the recall tells us that 99% of all actual 0’s were correctly identified as 0. The model also had a good precision for class 1, when landslide events do result in fatalities, however it had a low recall for this class, correctly identifying only 20% of the events that occurred in fatalities. These results make sense after noting in the exploratory data analysis that the dataset mainly consists of landslides that did not occur in fatalities, leading the model to predict many more 0’s than 1’s. "
   ]
  }
 ],
 "metadata": {
  "kernelspec": {
   "display_name": "Python 3",
   "language": "python",
   "name": "python3"
  },
  "language_info": {
   "codemirror_mode": {
    "name": "ipython",
    "version": 3
   },
   "file_extension": ".py",
   "mimetype": "text/x-python",
   "name": "python",
   "nbconvert_exporter": "python",
   "pygments_lexer": "ipython3",
   "version": "3.11.8"
  }
 },
 "nbformat": 4,
 "nbformat_minor": 2
}
