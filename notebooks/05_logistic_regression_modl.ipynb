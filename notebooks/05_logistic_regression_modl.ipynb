{
 "cells": [
  {
   "cell_type": "code",
   "execution_count": 53,
   "metadata": {},
   "outputs": [],
   "source": [
    "import numpy as np\n",
    "import pandas as pd\n",
    "from sklearn.model_selection import train_test_split\n",
    "from sklearn.linear_model import LogisticRegression\n",
    "from sklearn.metrics import confusion_matrix, classification_report\n",
    "import statsmodels.api as sm"
   ]
  },
  {
   "cell_type": "code",
   "execution_count": 54,
   "metadata": {},
   "outputs": [],
   "source": [
    "df = pd.read_csv(\"../data/landslideCleaned.csv\")\n",
    "\n",
    "# Convert the 'caused_fatalities' variable to 0's and 1's\n",
    "df.insert(df.columns.get_loc('caused_fatalities') + 1, 'caused_fatalities_numeric', np.where(df['fatality_count'] > 0, '1', '0'))\n",
    "\n",
    "# Select the desired features for the logistic regression model\n",
    "df = df[['landslide_size', 'injury_count', 'longitude', 'latitude', 'caused_fatalities_numeric']]\n",
    "\n",
    "# Create dummy variables for the 'landslide_size' variable\n",
    "df.insert(df.columns.get_loc('landslide_size') + 1, 'small_size', np.where(df['landslide_size'] == 'small', 1, 0))\n",
    "df.insert(df.columns.get_loc('small_size') + 1, 'medium_size', np.where(df['landslide_size'] == 'medium', 1, 0))\n",
    "df.insert(df.columns.get_loc('medium_size') + 1, 'large_size', np.where(df['landslide_size'] == 'large', 1, 0))\n",
    "df.insert(df.columns.get_loc('large_size') + 1, 'very_large_size', np.where(df['landslide_size'] == 'very_large', 1, 0))\n",
    "\n",
    "# Convert all numeric variables to type float\n",
    "df[['small_size', 'medium_size', 'large_size', 'very_large_size', 'caused_fatalities_numeric']] = df[['small_size', 'medium_size', 'large_size', 'very_large_size', 'caused_fatalities_numeric']].apply(lambda x: x.astype('float64'))\n",
    "\n",
    "# Drop the original 'landslide_size' variable\n",
    "df.drop('landslide_size', axis = 1, inplace = True)"
   ]
  },
  {
   "cell_type": "code",
   "execution_count": 56,
   "metadata": {},
   "outputs": [],
   "source": [
    "df = pd.read_csv(\"../data/landslideCleaned.csv\")\n",
    "\n",
    "# Convert the 'caused_fatalities' variable to 0's and 1's\n",
    "df.insert(df.columns.get_loc('caused_fatalities') + 1, 'caused_fatalities_numeric', np.where(df['fatality_count'] > 0, '1', '0'))\n",
    "\n",
    "# Select the desired features for the logistic regression model\n",
    "df = df[['landslide_size', 'injury_count', 'caused_fatalities_numeric']]\n",
    "\n",
    "# Create dummy variables for the 'landslide_size' variable\n",
    "df.insert(df.columns.get_loc('landslide_size') + 1, 'small_size', np.where(df['landslide_size'] == 'small', 1, 0))\n",
    "df.insert(df.columns.get_loc('small_size') + 1, 'medium_size', np.where(df['landslide_size'] == 'medium', 1, 0))\n",
    "df.insert(df.columns.get_loc('medium_size') + 1, 'large_size', np.where(df['landslide_size'] == 'large', 1, 0))\n",
    "df.insert(df.columns.get_loc('large_size') + 1, 'very_large_size', np.where(df['landslide_size'] == 'very_large', 1, 0))\n",
    "\n",
    "# Convert all numeric variables to type float\n",
    "df[['small_size', 'medium_size', 'large_size', 'very_large_size', 'caused_fatalities_numeric']] = df[['small_size', 'medium_size', 'large_size', 'very_large_size', 'caused_fatalities_numeric']].apply(lambda x: x.astype('float64'))\n",
    "\n",
    "# Drop the original 'landslide_size' variable\n",
    "df.drop('landslide_size', axis = 1, inplace = True)"
   ]
  },
  {
   "cell_type": "code",
   "execution_count": 49,
   "metadata": {},
   "outputs": [
    {
     "data": {
      "text/html": [
       "<div>\n",
       "<style scoped>\n",
       "    .dataframe tbody tr th:only-of-type {\n",
       "        vertical-align: middle;\n",
       "    }\n",
       "\n",
       "    .dataframe tbody tr th {\n",
       "        vertical-align: top;\n",
       "    }\n",
       "\n",
       "    .dataframe thead th {\n",
       "        text-align: right;\n",
       "    }\n",
       "</style>\n",
       "<table border=\"1\" class=\"dataframe\">\n",
       "  <thead>\n",
       "    <tr style=\"text-align: right;\">\n",
       "      <th></th>\n",
       "      <th>small_size</th>\n",
       "      <th>medium_size</th>\n",
       "      <th>large_size</th>\n",
       "      <th>very_large_size</th>\n",
       "      <th>injury_count</th>\n",
       "      <th>longitude</th>\n",
       "      <th>latitude</th>\n",
       "      <th>caused_fatalities_numeric</th>\n",
       "    </tr>\n",
       "  </thead>\n",
       "  <tbody>\n",
       "    <tr>\n",
       "      <th>0</th>\n",
       "      <td>0.0</td>\n",
       "      <td>0.0</td>\n",
       "      <td>0.0</td>\n",
       "      <td>0.0</td>\n",
       "      <td>0.0</td>\n",
       "      <td>-122.817800</td>\n",
       "      <td>45.864700</td>\n",
       "      <td>0.0</td>\n",
       "    </tr>\n",
       "    <tr>\n",
       "      <th>1</th>\n",
       "      <td>1.0</td>\n",
       "      <td>0.0</td>\n",
       "      <td>0.0</td>\n",
       "      <td>0.0</td>\n",
       "      <td>0.0</td>\n",
       "      <td>105.529997</td>\n",
       "      <td>23.143830</td>\n",
       "      <td>0.0</td>\n",
       "    </tr>\n",
       "    <tr>\n",
       "      <th>2</th>\n",
       "      <td>0.0</td>\n",
       "      <td>1.0</td>\n",
       "      <td>0.0</td>\n",
       "      <td>0.0</td>\n",
       "      <td>1.0</td>\n",
       "      <td>124.041900</td>\n",
       "      <td>12.565500</td>\n",
       "      <td>0.0</td>\n",
       "    </tr>\n",
       "    <tr>\n",
       "      <th>3</th>\n",
       "      <td>1.0</td>\n",
       "      <td>0.0</td>\n",
       "      <td>0.0</td>\n",
       "      <td>0.0</td>\n",
       "      <td>0.0</td>\n",
       "      <td>-83.712126</td>\n",
       "      <td>36.770029</td>\n",
       "      <td>0.0</td>\n",
       "    </tr>\n",
       "    <tr>\n",
       "      <th>4</th>\n",
       "      <td>1.0</td>\n",
       "      <td>0.0</td>\n",
       "      <td>0.0</td>\n",
       "      <td>0.0</td>\n",
       "      <td>0.0</td>\n",
       "      <td>104.453085</td>\n",
       "      <td>22.690403</td>\n",
       "      <td>0.0</td>\n",
       "    </tr>\n",
       "  </tbody>\n",
       "</table>\n",
       "</div>"
      ],
      "text/plain": [
       "   small_size  medium_size  large_size  very_large_size  injury_count  \\\n",
       "0         0.0          0.0         0.0              0.0           0.0   \n",
       "1         1.0          0.0         0.0              0.0           0.0   \n",
       "2         0.0          1.0         0.0              0.0           1.0   \n",
       "3         1.0          0.0         0.0              0.0           0.0   \n",
       "4         1.0          0.0         0.0              0.0           0.0   \n",
       "\n",
       "    longitude   latitude  caused_fatalities_numeric  \n",
       "0 -122.817800  45.864700                        0.0  \n",
       "1  105.529997  23.143830                        0.0  \n",
       "2  124.041900  12.565500                        0.0  \n",
       "3  -83.712126  36.770029                        0.0  \n",
       "4  104.453085  22.690403                        0.0  "
      ]
     },
     "execution_count": 49,
     "metadata": {},
     "output_type": "execute_result"
    }
   ],
   "source": [
    "df.head()"
   ]
  },
  {
   "cell_type": "code",
   "execution_count": 57,
   "metadata": {},
   "outputs": [],
   "source": [
    "# Define the predictor variables and target variable\n",
    "X = df.drop('caused_fatalities_numeric', axis = 1)\n",
    "y = df['caused_fatalities_numeric']\n",
    "\n",
    "# Create the train/test split\n",
    "X_train, X_test, y_train, y_test = train_test_split(X, y, test_size=0.2, random_state=42)\n",
    "\n",
    "# Fit the logistic regression model\n",
    "model = LogisticRegression()\n",
    "model.fit(X_train, y_train)\n",
    "\n",
    "# Make predictions\n",
    "y_pred = model.predict(X_test)"
   ]
  },
  {
   "cell_type": "code",
   "execution_count": 58,
   "metadata": {},
   "outputs": [
    {
     "name": "stdout",
     "output_type": "stream",
     "text": [
      "Confusion Matrix:\n",
      " [[852   6]\n",
      " [171  42]]\n",
      "\n",
      "Classification Report:\n",
      "               precision    recall  f1-score   support\n",
      "\n",
      "         0.0       0.83      0.99      0.91       858\n",
      "         1.0       0.88      0.20      0.32       213\n",
      "\n",
      "    accuracy                           0.83      1071\n",
      "   macro avg       0.85      0.60      0.61      1071\n",
      "weighted avg       0.84      0.83      0.79      1071\n",
      "\n"
     ]
    }
   ],
   "source": [
    "# Confusion matrix\n",
    "conf_matrix = confusion_matrix(y_test, y_pred)\n",
    "print(\"Confusion Matrix:\\n\", conf_matrix)\n",
    "\n",
    "# Classification report (precision, recall, f1-score)\n",
    "class_report = classification_report(y_test, y_pred)\n",
    "print(\"\\nClassification Report:\\n\", class_report)\n"
   ]
  },
  {
   "cell_type": "code",
   "execution_count": 51,
   "metadata": {},
   "outputs": [
    {
     "name": "stdout",
     "output_type": "stream",
     "text": [
      "Optimization terminated successfully.\n",
      "         Current function value: 0.350679\n",
      "         Iterations 8\n"
     ]
    },
    {
     "ename": "ValueError",
     "evalue": "shapes (5351,8) and (5351,8) not aligned: 8 (dim 1) != 5351 (dim 0)",
     "output_type": "error",
     "traceback": [
      "\u001b[0;31m---------------------------------------------------------------------------\u001b[0m",
      "\u001b[0;31mValueError\u001b[0m                                Traceback (most recent call last)",
      "Cell \u001b[0;32mIn[51], line 13\u001b[0m\n\u001b[1;32m     10\u001b[0m result \u001b[38;5;241m=\u001b[39m model\u001b[38;5;241m.\u001b[39mfit()\n\u001b[1;32m     12\u001b[0m \u001b[38;5;66;03m# Perform predictions\u001b[39;00m\n\u001b[0;32m---> 13\u001b[0m y_pred_prob \u001b[38;5;241m=\u001b[39m \u001b[43mmodel\u001b[49m\u001b[38;5;241;43m.\u001b[39;49m\u001b[43mpredict\u001b[49m\u001b[43m(\u001b[49m\u001b[43mX\u001b[49m\u001b[43m)\u001b[49m\n\u001b[1;32m     14\u001b[0m y_pred \u001b[38;5;241m=\u001b[39m (y_pred_prob \u001b[38;5;241m>\u001b[39m\u001b[38;5;241m=\u001b[39m \u001b[38;5;241m0.5\u001b[39m)\u001b[38;5;241m.\u001b[39mastype(\u001b[38;5;28mint\u001b[39m)\n\u001b[1;32m     16\u001b[0m \u001b[38;5;28mprint\u001b[39m(\u001b[38;5;124mf\u001b[39m\u001b[38;5;124m\"\u001b[39m\u001b[38;5;124mAIC: \u001b[39m\u001b[38;5;132;01m{\u001b[39;00mresult\u001b[38;5;241m.\u001b[39maic\u001b[38;5;132;01m}\u001b[39;00m\u001b[38;5;124m\"\u001b[39m)\n",
      "File \u001b[0;32m/opt/anaconda3/envs/mis584projenv/lib/python3.11/site-packages/statsmodels/discrete/discrete_model.py:543\u001b[0m, in \u001b[0;36mBinaryModel.predict\u001b[0;34m(self, params, exog, which, linear, offset)\u001b[0m\n\u001b[1;32m    540\u001b[0m \u001b[38;5;28;01mif\u001b[39;00m exog \u001b[38;5;129;01mis\u001b[39;00m \u001b[38;5;28;01mNone\u001b[39;00m:\n\u001b[1;32m    541\u001b[0m     exog \u001b[38;5;241m=\u001b[39m \u001b[38;5;28mself\u001b[39m\u001b[38;5;241m.\u001b[39mexog\n\u001b[0;32m--> 543\u001b[0m linpred \u001b[38;5;241m=\u001b[39m \u001b[43mnp\u001b[49m\u001b[38;5;241;43m.\u001b[39;49m\u001b[43mdot\u001b[49m\u001b[43m(\u001b[49m\u001b[43mexog\u001b[49m\u001b[43m,\u001b[49m\u001b[43m \u001b[49m\u001b[43mparams\u001b[49m\u001b[43m)\u001b[49m \u001b[38;5;241m+\u001b[39m offset\n\u001b[1;32m    545\u001b[0m \u001b[38;5;28;01mif\u001b[39;00m which \u001b[38;5;241m==\u001b[39m \u001b[38;5;124m\"\u001b[39m\u001b[38;5;124mmean\u001b[39m\u001b[38;5;124m\"\u001b[39m:\n\u001b[1;32m    546\u001b[0m     \u001b[38;5;28;01mreturn\u001b[39;00m \u001b[38;5;28mself\u001b[39m\u001b[38;5;241m.\u001b[39mcdf(linpred)\n",
      "\u001b[0;31mValueError\u001b[0m: shapes (5351,8) and (5351,8) not aligned: 8 (dim 1) != 5351 (dim 0)"
     ]
    }
   ],
   "source": [
    "\"\"\"\n",
    "# Define the predictor variables and target variable\n",
    "X = df.drop('caused_fatalities_numeric', axis = 1)\n",
    "y = df['caused_fatalities_numeric']\n",
    "\n",
    "# Add an intercept\n",
    "X = sm.add_constant(X)\n",
    "\n",
    "# Fit the logistic regression model\n",
    "model = sm.Logit(y, X)\n",
    "result = model.fit()\n",
    "\n",
    "# Perform predictions\n",
    "y_pred_prob = model.predict(X)\n",
    "y_pred = (y_pred_prob >= 0.5).astype(int)\n",
    "\n",
    "print(f\"AIC: {result.aic}\")\n",
    "print(f\"BIC: {result.bic}\")\"\n",
    "\"\"\""
   ]
  },
  {
   "cell_type": "code",
   "execution_count": null,
   "metadata": {},
   "outputs": [],
   "source": [
    "conf_matrix = confusion_matrix()"
   ]
  }
 ],
 "metadata": {
  "kernelspec": {
   "display_name": "Python 3",
   "language": "python",
   "name": "python3"
  },
  "language_info": {
   "codemirror_mode": {
    "name": "ipython",
    "version": 3
   },
   "file_extension": ".py",
   "mimetype": "text/x-python",
   "name": "python",
   "nbconvert_exporter": "python",
   "pygments_lexer": "ipython3",
   "version": "3.11.8"
  }
 },
 "nbformat": 4,
 "nbformat_minor": 2
}
